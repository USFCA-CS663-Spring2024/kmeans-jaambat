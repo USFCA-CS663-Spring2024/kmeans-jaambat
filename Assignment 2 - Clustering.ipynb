{
 "cells": [
  {
   "cell_type": "markdown",
   "source": [
    "# Assignment 2 - Clustering\n",
    "```\n",
    "James Ambat\n",
    "Assignment 2\n",
    "CS-663\n",
    "```\n",
    "\n",
    "## My Setup\n",
    "From the terminal, create and activate the virtual environment:\n",
    "```\n",
    "cd kmeans-jaambat\n",
    "mkdir venv\n",
    "python3 -m venv ./venv\n",
    "source venv/bin/activate\n",
    "```\n",
    "\n",
    "I used PyCharm IDE for development and linked the interpreter with the following steps:\n",
    "```\n",
    "PyCharm -> Settings -> Project: kmeans-jaambat\n",
    "Python Interpretter -> Add Interpretter\n",
    "Add Local Interpretter -> /kmeans-jaambat/venv\n",
    "```\n",
    "\n",
    "From the terminal, install the required libraries:\n",
    "```\n",
    "cd kmeans-jaambat\n",
    "pip install -r requirements.txt\n",
    "```"
   ],
   "metadata": {
    "collapsed": false
   }
  },
  {
   "cell_type": "markdown",
   "source": [
    "# Part 1 - Implement K-Means\n",
    "Create a python-based implementation of the K-Means algorithm.\n",
    "* See my implementation of KMeans in `KMeans.py`"
   ],
   "metadata": {
    "collapsed": false
   }
  },
  {
   "cell_type": "code",
   "execution_count": 3,
   "outputs": [
    {
     "data": {
      "text/plain": "([], [])"
     },
     "execution_count": 3,
     "metadata": {},
     "output_type": "execute_result"
    }
   ],
   "source": [
    "from KMeans import KMeans\n",
    "\n",
    "k_means = KMeans()\n",
    "x_test = [[0, 100], [-100, 200], [50, 50], [-75, -75]]\n",
    "k_means.fit(x=x_test)\n"
   ],
   "metadata": {
    "collapsed": false
   }
  },
  {
   "cell_type": "code",
   "execution_count": null,
   "outputs": [],
   "source": [],
   "metadata": {
    "collapsed": false
   }
  }
 ],
 "metadata": {
  "kernelspec": {
   "name": "python3",
   "language": "python",
   "display_name": "Python 3 (ipykernel)"
  }
 },
 "nbformat": 4,
 "nbformat_minor": 5
}
